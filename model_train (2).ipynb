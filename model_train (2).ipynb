{
 "cells": [
  {
   "cell_type": "code",
   "execution_count": 1,
   "metadata": {},
   "outputs": [],
   "source": [
    "from sklearn.impute import SimpleImputer\n",
    "from sklearn.preprocessing import LabelEncoder  \n",
    "from sklearn.preprocessing import StandardScaler\n",
    "import numpy as np\n",
    "import pandas as pd\n",
    "import matplotlib.pyplot as plt\n",
    "import seaborn as sns"
   ]
  },
  {
   "cell_type": "code",
   "execution_count": 2,
   "metadata": {},
   "outputs": [],
   "source": [
    "USELESS_DATA_BOUNDARY= 0.3"
   ]
  },
  {
   "cell_type": "code",
   "execution_count": 3,
   "metadata": {},
   "outputs": [],
   "source": [
    "class DataSet(object):\n",
    "    def __init__(self, csv_path):\n",
    "        self.data = pd.read_csv(csv_path)\n",
    "        #print(self.data)w\n",
    "        self.processed_data = self.data\n",
    "        #self.missing_value_process()\n",
    "\n",
    "        #self.raw_predictor = self.data.iloc[:,:-1].values\n",
    "        #self.raw_response = self.data.iloc[:,-1].values\n",
    "\n",
    "        self.useless_value_process()\n",
    "        self.missing_value_process()\n",
    "        self.tag_transfer()\n",
    "        self.imputer_process()\n",
    "        self.normalize()\n",
    "\n",
    "    def useless_value_process(self):\n",
    "        col_del = ['examide', 'citoglipton', 'glimepiride-pioglitazone','encounter_id','patient_nbr']\n",
    "        self.processed_data.drop(col_del, axis=1, inplace = True)\n",
    "    \n",
    "    def missing_value_process(self):\n",
    "        row_num = len(self.data)\n",
    "        col_num = len(self.data.columns)\n",
    "        cols_to_drop = []\n",
    "        for col in range(col_num):\n",
    "            qm_num = 0\n",
    "            for row in range(row_num):\n",
    "                if str(self.data.iat[row,col]) == \"?\":\n",
    "                    qm_num += 1\n",
    "\n",
    "            #print(qm_num/row_num)\n",
    "            if qm_num/row_num >= USELESS_DATA_BOUNDARY:\n",
    "                #print(\"true\")\n",
    "                cols_to_drop.append(self.data.columns[col])\n",
    "        \n",
    "        self.processed_data.drop(columns=cols_to_drop, axis=1, inplace = True)\n",
    "\n",
    "    def imputer_process(self):\n",
    "        # Replace the question marks with the most frequently appeared value for each feature\n",
    "        imp = SimpleImputer(missing_values= -1, strategy='most_frequent')\n",
    "        imp.fit(self.processed_data)\n",
    "\n",
    "\n",
    "    def tag_transfer(self): \n",
    "\n",
    "        le = LabelEncoder()\n",
    "        #self.processed_data.replace('?', -1, inplace=True)\n",
    "        value_to_keep = \"?\"\n",
    "\n",
    "        # 遍历DataFrame的每一列\n",
    "        for column in self.processed_data.columns:\n",
    "            # 如果列的数据类型是对象（通常意味着它是分类类型）\n",
    "            if self.processed_data[column].dtype == 'object':\n",
    "                # 对列应用 LabelEncoder\n",
    "                values_to_encode = self.processed_data[column] != value_to_keep\n",
    "                #original_column = self.processed_data[column].copy()\n",
    "                # 对非特定值应用 LabelEncoder\n",
    "                encoded_values = le.fit_transform(self.processed_data.loc[values_to_encode, column])\n",
    "                self.processed_data[column] = le.fit_transform(self.processed_data[column])\n",
    "                #self.processed_data[column] = pd.Series(encoded_values, index=self.processed_data.index[values_to_encode]).astype(int)\n",
    "                #self.processed_data.loc[~values_to_encode, column] = original_column[~values_to_encode]\n",
    "                self.processed_data[column].fillna(self.processed_data[column], inplace=True)\n",
    "\n",
    "        #print(self.processed_data)\n",
    "    #I have changed        \n",
    "\n",
    "        #self.processed_data = self.raw_data.dropna()\n",
    "\n",
    "    def normalize(self):\n",
    "\n",
    "        # Normalize data using StandardScaler\n",
    "        scaler = StandardScaler()\n",
    "        normalized_data = scaler.fit_transform(self.processed_data)\n",
    "\n",
    "        # Print normalized data\n",
    "        print(normalized_data)\n",
    "\n",
    "\n"
   ]
  },
  {
   "cell_type": "code",
   "execution_count": 4,
   "metadata": {},
   "outputs": [
    {
     "name": "stdout",
     "output_type": "stream",
     "text": [
      "[[ 0.42755739 -0.92739675 -3.82459963 ...  0.92659052 -1.82986799\n",
      "   0.8368795 ]\n",
      " [ 0.42755739 -0.92739675 -3.19727694 ... -1.07922537  0.54648751\n",
      "  -0.62496982]\n",
      " [-1.70370587 -0.92739675 -2.56995426 ...  0.92659052  0.54648751\n",
      "   0.8368795 ]\n",
      " ...\n",
      " [ 0.42755739  1.07803147  0.56665918 ... -1.07922537  0.54648751\n",
      "   0.8368795 ]\n",
      " [ 0.42755739 -0.92739675  1.19398187 ... -1.07922537  0.54648751\n",
      "   0.8368795 ]\n",
      " [ 0.42755739  1.07803147  0.56665918 ...  0.92659052 -1.82986799\n",
      "   0.8368795 ]]\n",
      "[[ 0.43786174 -0.9237946  -3.83040391 ...  0.91850935 -1.81546287\n",
      "   0.83385164]\n",
      " [-1.70347364 -0.9237946  -1.31839253 ...  0.91850935  0.55082371\n",
      "  -0.63433316]\n",
      " [-2.77414133 -0.9237946  -0.69038969 ... -1.08872055  0.55082371\n",
      "   0.83385164]\n",
      " ...\n",
      " [ 0.43786174  1.08249171 -1.31839253 ... -1.08872055  0.55082371\n",
      "   0.83385164]\n",
      " [ 0.43786174 -0.9237946   1.19361885 ... -1.08872055  0.55082371\n",
      "  -2.10251797]\n",
      " [-1.70347364 -0.9237946  -0.06238684 ... -1.08872055  0.55082371\n",
      "  -0.63433316]]\n"
     ]
    }
   ],
   "source": [
    "train_data = DataSet('diabetic_data.csv')\n",
    "test_data = DataSet('diabetic_data_test.csv')\n",
    "\n",
    "#train_data.data\n",
    "train_data.processed_data, test_data.processed_data\n",
    "\n",
    "train_data.processed_data.to_csv(\"test_csv.csv\",sep=';',index=False)\n"
   ]
  },
  {
   "cell_type": "code",
   "execution_count": 11,
   "metadata": {},
   "outputs": [],
   "source": [
    "# export the normalized data as an Excel file\n",
    "df = pd.read_csv('test_csv.csv')\n",
    "df.to_excel('normalized new dataset.xlsx')"
   ]
  },
  {
   "cell_type": "code",
   "execution_count": 9,
   "metadata": {},
   "outputs": [
    {
     "name": "stdout",
     "output_type": "stream",
     "text": [
      "Collecting openpyxl\n",
      "  Downloading openpyxl-3.1.2-py2.py3-none-any.whl (249 kB)\n",
      "\u001b[2K     \u001b[90m━━━━━━━━━━━━━━━━━━━━━━━━━━━━━━━━━━━━━━━\u001b[0m \u001b[32m250.0/250.0 kB\u001b[0m \u001b[31m8.0 MB/s\u001b[0m eta \u001b[36m0:00:00\u001b[0m\n",
      "\u001b[?25hCollecting et-xmlfile (from openpyxl)\n",
      "  Downloading et_xmlfile-1.1.0-py3-none-any.whl (4.7 kB)\n",
      "Installing collected packages: et-xmlfile, openpyxl\n",
      "Successfully installed et-xmlfile-1.1.0 openpyxl-3.1.2\n",
      "\n",
      "\u001b[1m[\u001b[0m\u001b[34;49mnotice\u001b[0m\u001b[1;39;49m]\u001b[0m\u001b[39;49m A new release of pip is available: \u001b[0m\u001b[31;49m23.3.1\u001b[0m\u001b[39;49m -> \u001b[0m\u001b[32;49m23.3.2\u001b[0m\n",
      "\u001b[1m[\u001b[0m\u001b[34;49mnotice\u001b[0m\u001b[1;39;49m]\u001b[0m\u001b[39;49m To update, run: \u001b[0m\u001b[32;49mpython3 -m pip install --upgrade pip\u001b[0m\n",
      "Note: you may need to restart the kernel to use updated packages.\n"
     ]
    }
   ],
   "source": [
    "pip install openpyxl"
   ]
  },
  {
   "cell_type": "code",
   "execution_count": 16,
   "metadata": {},
   "outputs": [
    {
     "data": {
      "text/plain": [
       "(array([[149190, 55629189, 'Caucasian', ..., 'No', 'Ch', 'Yes'],\n",
       "        [64410, 86047875, 'AfricanAmerican', ..., 'No', 'No', 'Yes'],\n",
       "        [500364, 82442376, 'Caucasian', ..., 'No', 'Ch', 'Yes'],\n",
       "        ...,\n",
       "        [443854148, 41088789, 'Caucasian', ..., 'No', 'Ch', 'Yes'],\n",
       "        [443857166, 31693671, 'Caucasian', ..., 'No', 'Ch', 'Yes'],\n",
       "        [443867222, 175429310, 'Caucasian', ..., 'No', 'No', 'No']],\n",
       "       dtype=object),\n",
       " array(['>30', 'NO', 'NO', ..., 'NO', 'NO', 'NO'], dtype=object))"
      ]
     },
     "execution_count": 16,
     "metadata": {},
     "output_type": "execute_result"
    }
   ],
   "source": [
    "train_data = pd.read_csv('diabetic_data.csv')\n",
    "test_data = pd.read_csv('diabetic_data_test.csv')\n",
    "\n",
    "predictor = train_data.iloc[:,:-1].values\n",
    "response = train_data.iloc[:,-1].values\n",
    "\n",
    "predictor,response "
   ]
  }
 ],
 "metadata": {
  "kernelspec": {
   "display_name": "Python 3 (ipykernel)",
   "language": "python",
   "name": "python3"
  },
  "language_info": {
   "codemirror_mode": {
    "name": "ipython",
    "version": 3
   },
   "file_extension": ".py",
   "mimetype": "text/x-python",
   "name": "python",
   "nbconvert_exporter": "python",
   "pygments_lexer": "ipython3",
   "version": "3.10.13"
  }
 },
 "nbformat": 4,
 "nbformat_minor": 2
}
